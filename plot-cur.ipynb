{
 "cells": [
  {
   "cell_type": "code",
   "execution_count": 14,
   "metadata": {},
   "outputs": [],
   "source": [
    "import matplotlib.pyplot as plt\n",
    "from sklearn.metrics import f1_score,recall_score,precision_score\n",
    "import matplotlib.image as mpimg\n",
    "import numpy as np\n",
    "import os\n",
    "import pickle\n",
    "import torch"
   ]
  },
  {
   "cell_type": "code",
   "execution_count": 15,
   "metadata": {},
   "outputs": [],
   "source": [
    "def plot(a,b):\n",
    "    x = np.arange(len(a[0]))\n",
    "    plt.plot(x, a[0], color=\"r\", linestyle=\"-\", marker=\"^\", label=b[0], linewidth=1)\n",
    "    plt.legend(loc='lower right')\n",
    "    plt.plot(x, a[1], color=\"b\", linestyle=\"-\", marker=\"s\", label=b[1], linewidth=1)\n",
    "    plt.legend(loc='lower right')\n",
    "    plt.plot(x, a[2], color=\"g\", linestyle=\"-\", marker=\",\", label=b[2], linewidth=1)\n",
    "    plt.legend(loc='lower right')\n",
    "    plt.plot(x, a[3], color=\"m\", linestyle=\"-\", marker=\".\", label=b[3], linewidth=1)\n",
    "    plt.legend(loc='lower right')\n",
    "#     plt.plot(x, a[4], color=\"y\", linestyle=\"-\", marker=\"x\", label=b[4], linewidth=1)\n",
    "#     plt.legend(loc='lower right')\n",
    "    plt.xlabel('data batch')\n",
    "#     plt.ylabel('%')\n",
    "    plt.title('Current batch prediction')\n",
    "\n",
    "    plt.savefig('figures_cur/Sensor_pic_{}_perform.jpg'.format(paramstamp),dpi=300)\n",
    "    plt.show()"
   ]
  },
  {
   "cell_type": "code",
   "execution_count": 16,
   "metadata": {
    "scrolled": true
   },
   "outputs": [],
   "source": [
    "# current batch nodes\n",
    "nodes = [[3, 5, 7, 18, 34, 58, 115, 115, 115, 115, 115, 115, 115, 115, 74, 74, 74, 74, 74, 74, 74, 74, 74, 74, 74, 74, 105, 105, 105, 126], [3, 5, 6, 4, 37, 160, 269, 295, 295, 295, 295, 295, 295, 295, 295, 295, 295, 295, 295, 295, 295, 295, 295, 295, 295, 295, 295, 295, 295, 295], [3, 7, 36, 51, 74, 70, 70, 70, 70, 44, 44, 44, 44, 44, 44, 44, 44, 44, 44, 44, 44, 44, 44, 44, 44, 44, 56, 56, 66, 66], [3, 5, 50, 40, 40, 98, 120, 120, 140, 140, 140, 140, 140, 140, 140, 140, 140, 140, 140, 140, 140, 140, 140, 140, 140, 140, 140, 140, 140, 140], [3, 8, 21, 31, 38, 76, 77, 77, 77, 77, 77, 45, 45, 45, 45, 45, 45, 45, 45, 45, 45, 45, 45, 45, 45, 45, 45, 70, 70, 70]]"
   ]
  },
  {
   "cell_type": "code",
   "execution_count": 17,
   "metadata": {},
   "outputs": [],
   "source": [
    "ave = []\n",
    "for i in range(len(nodes[0])):\n",
    "    ave.append([])\n",
    "    [ave[i].append(nodes[k][i]) for k in range(5)]"
   ]
  },
  {
   "cell_type": "code",
   "execution_count": 18,
   "metadata": {},
   "outputs": [],
   "source": [
    "ave_ = []\n",
    "for a in ave:\n",
    "    ave_.append(np.mean(a))"
   ]
  },
  {
   "cell_type": "code",
   "execution_count": 19,
   "metadata": {},
   "outputs": [
    {
     "data": {
      "text/plain": [
       "[<matplotlib.lines.Line2D at 0x25027858688>]"
      ]
     },
     "execution_count": 19,
     "metadata": {},
     "output_type": "execute_result"
    },
    {
     "data": {
      "image/png": "[encoded data removed]",
      "text/plain": [
       "<Figure size 432x288 with 1 Axes>"
      ]
     },
     "metadata": {
      "needs_background": "light"
     },
     "output_type": "display_data"
    }
   ],
   "source": [
    "x = np.arange(len(ave_))\n",
    "plt.plot(x, ave_, color=\"r\", linestyle=\"-\", marker=\"^\", label='Nodes', linewidth=1)"
   ]
  },
  {
   "cell_type": "code",
   "execution_count": null,
   "metadata": {},
   "outputs": [],
   "source": []
  },
  {
   "cell_type": "code",
   "execution_count": 20,
   "metadata": {},
   "outputs": [],
   "source": [
    "def loadfile(filename):\n",
    "    f=open(filename,'rb')\n",
    "    r=pickle.load(f)\n",
    "    f.close()\n",
    "    return r"
   ]
  },
  {
   "cell_type": "code",
   "execution_count": 21,
   "metadata": {},
   "outputs": [],
   "source": [
    "def loadresult(file,pic,metric):\n",
    "    ave = [[],[],[],[],[],[]]\n",
    "    racc = [[],[],[],[],[],[]]\n",
    "    metrics = [[],[],[]]\n",
    "    # get performance dict\n",
    "    f=open(file,'rb')\n",
    "    r=pickle.load(f)\n",
    "    f.close()\n",
    "    for i in range(len(SI)):\n",
    "#         print(b[i])\n",
    "#         # print('si:{} selflabel:{} flexibel:{}'.format(r['SI'][i],r['Selflabel'][i],r['Flexiblelayer'][i]))\n",
    "# #         print(r['Performance'][i])\n",
    "#         print(np.mean(r['Performance'][i][1:]))\n",
    "        ave[i].append(np.mean(r['Performance'][i][1:]))\n",
    "        racc[i].append(r['Performance'][i])\n",
    "#         print(racc)\n",
    "    # print('nodes:',r['Nodes'])\n",
    "    result = []\n",
    "    for a in ave:\n",
    "        result.append(a)\n",
    "#     print('acc:',result)\n",
    "    [overallacc[i].append(result[i][0]) for i in range(6)]\n",
    "    nodes = r['Nodes']\n",
    "    [overallnode[i].append(nodes[i]) for i in range(6)]\n",
    "    ### Read Images\n",
    "    if os.path.isfile(pic):\n",
    "        img = mpimg.imread(pic)\n",
    "        plt.imshow(img)\n",
    "\n",
    "    # get metrics dict\n",
    "    m = loadfile(metric)\n",
    "    performs = [[],[],[]]\n",
    "    for i,key in enumerate(['F1','precision','recall']):\n",
    "        for k in m:\n",
    "            f = []\n",
    "            for l in range(len(k)):\n",
    "                f.append(k[l][key])\n",
    "            performs[i].append(f)\n",
    "        # plot_metrics(performs[i],b,key)\n",
    "    f1result = []\n",
    "    precision = []\n",
    "    recall = []\n",
    "    for a in range(len(SI)):\n",
    "        f1result.append(np.mean(performs[0][a]))\n",
    "        precision.append(np.mean(performs[1][a]))\n",
    "        recall.append(np.mean(performs[2][a]))\n",
    "    metrics[0] = performs[0][5]\n",
    "    metrics[1] = performs[1][5]\n",
    "    metrics[2] = performs[2][5]\n",
    "#     print(metrics[0])\n",
    "#     print('F1:',f1result)\n",
    "#     print('precision:', precision)\n",
    "#     print('recall:', recall)\n",
    "#     print('nodes:', nodes)\n",
    "#     [overallf1[i].append(f1result[i]) for i in range(6)]\n",
    "#     [overallprec[i].append(precision[i]) for i in range(6)]\n",
    "#     [overallrecall[i].append(recall[i]) for i in range(6)]\n",
    "    return racc, metrics"
   ]
  },
  {
   "cell_type": "code",
   "execution_count": 22,
   "metadata": {},
   "outputs": [
    {
     "name": "stdout",
     "output_type": "stream",
     "text": [
      "seed: [5, 13, 57, 16, 33]\n"
     ]
    }
   ],
   "source": [
    "### variables\n",
    "SI         =  [False, False, True , False, True , True]\n",
    "Self_label =  [False, True , True , False, True , True]\n",
    "Flexible   =  [False, True , False, True , True , True]\n",
    "Clustering =  [False, True , True , True , True , True]\n",
    "Augment    =  [False, True , True , True , False, True]\n",
    "\n",
    "b = ['all off', 'si off', 'evolving off', 'pseudo&si off','augment off','parsnet++']\n",
    "\n",
    "epochs = 10\n",
    "Epoch = 5\n",
    "init_batch = 5              # batches for initialization of parsnet+ network\n",
    "labeled_proportion = 0.5\n",
    "batchSize = 50\n",
    "minibatchsize = 5           # if minibatchsize=1, node growing&pruning criterion needs to be changed\n",
    "noise_std = 0.001\n",
    "epsilon = 0.001\n",
    "\n",
    "### network parameters\n",
    "nInputSensor = 48\n",
    "classes = 3\n",
    "lr = 0.01\n",
    "lrGen = 0.01\n",
    "\n",
    "### parameter stamp\n",
    "paramstamp = 'init_batch{}_epochs{}_labeled{}_batchsize{}_epsilon{}_noisestd{}_lrDis{}_lrGen{}_0.6_0.8_0.8'.format(\n",
    "    init_batch,epochs,labeled_proportion,batchSize,epsilon,noise_std,lr,lrGen)\n",
    "# paramstamp = 'init_batch{}_epochs{}_labeled{}_batchsize{}_epsilon{}_noisestd{}_lrDis{}_lrGen{}_0.8'.format(\n",
    "#     init_batch,epochs,labeled_proportion,batchSize,epsilon,noise_std,lr,lrGen)\n",
    "\n",
    "### select random seed\n",
    "seedlist = [5,13,57,16,33]\n",
    "print('seed:',seedlist)\n",
    "\n",
    "overallacc = [[],[],[],[],[],[]]\n",
    "overallf1 = [[],[],[],[],[],[]]\n",
    "overallprec = [[],[],[],[],[],[]]\n",
    "overallrecall = [[],[],[],[],[],[]]\n",
    "overallnode = [[],[],[],[],[],[]]\n",
    "for e in range(len(seedlist)):\n",
    "    randomseed = seedlist[e]\n",
    "    # print('Seed {}'.format(randomseed))\n",
    "    fileName = 'results_cur/Sensor_accuracy_{}-seed{}.txt'.format(paramstamp,randomseed)\n",
    "    picName = 'figures_cur/Sensor_pic_{}-seed{}.jpg'.format(paramstamp,randomseed)\n",
    "    metricfile = 'results_cur/Sensor_metrics_{}-seed{}.txt'.format(paramstamp,randomseed)\n",
    "    \n",
    "    if os.path.isfile(fileName):\n",
    "        # print('reulst file exists')\n",
    "        racc, metr = loadresult(fileName,picName,metricfile)\n",
    "        if e == 0:\n",
    "            overacc = torch.tensor(racc)\n",
    "            overall = torch.tensor(metr)\n",
    "        else:\n",
    "            overacc = torch.cat((overacc,torch.tensor(racc)),dim=1)\n",
    "            overall = torch.add(overall,torch.tensor(metr))"
   ]
  },
  {
   "cell_type": "code",
   "execution_count": 23,
   "metadata": {},
   "outputs": [],
   "source": [
    "a[0] = torch.mean(overacc,dim=1)[-1]\n",
    "a[1] = (overall/5)[0]\n",
    "a[2] = (overall/5)[1]\n",
    "a[3] = (overall/5)[2]"
   ]
  },
  {
   "cell_type": "code",
   "execution_count": 24,
   "metadata": {},
   "outputs": [
    {
     "data": {
      "image/png": "[encoded data removed]",
      "text/plain": [
       "<Figure size 432x288 with 1 Axes>"
      ]
     },
     "metadata": {
      "needs_background": "light"
     },
     "output_type": "display_data"
    }
   ],
   "source": [
    "plot(a,['accuracy','F1','precision','recall','nodes'])"
   ]
  },
  {
   "cell_type": "code",
   "execution_count": 26,
   "metadata": {},
   "outputs": [],
   "source": [
    "a[4] = ave_"
   ]
  },
  {
   "cell_type": "code",
   "execution_count": 27,
   "metadata": {},
   "outputs": [
    {
     "data": {
      "image/png": "[encoded data removed]",
      "text/plain": [
       "<Figure size 432x288 with 1 Axes>"
      ]
     },
     "metadata": {
      "needs_background": "light"
     },
     "output_type": "display_data"
    }
   ],
   "source": [
    "x = np.arange(len(a[4]))\n",
    "plt.plot(x, a[4], color=\"r\", linestyle=\"-\", marker=\"^\", linewidth=1)\n",
    "plt.title('Next batch prediction')\n",
    "plt.xlabel('data batch')\n",
    "plt.ylabel('Nodes')\n",
    "plt.savefig('figures_cur/Sensor_pic_{}_nodes.jpg'.format(paramstamp),dpi=300)\n",
    "plt.show()"
   ]
  },
  {
   "cell_type": "code",
   "execution_count": null,
   "metadata": {},
   "outputs": [],
   "source": []
  }
 ],
 "metadata": {
  "kernelspec": {
   "display_name": "Python 3",
   "language": "python",
   "name": "python3"
  },
  "language_info": {
   "codemirror_mode": {
    "name": "ipython",
    "version": 3
   },
   "file_extension": ".py",
   "mimetype": "text/x-python",
   "name": "python",
   "nbconvert_exporter": "python",
   "pygments_lexer": "ipython3",
   "version": "3.7.6"
  }
 },
 "nbformat": 4,
 "nbformat_minor": 2
}
