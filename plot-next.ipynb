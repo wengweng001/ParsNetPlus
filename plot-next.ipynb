{
 "cells": [
  {
   "cell_type": "code",
   "execution_count": 14,
   "metadata": {},
   "outputs": [],
   "source": [
    "import matplotlib.pyplot as plt\n",
    "from sklearn.metrics import f1_score,recall_score,precision_score\n",
    "import matplotlib.image as mpimg\n",
    "import numpy as np\n",
    "import os\n",
    "import pickle\n",
    "import torch"
   ]
  },
  {
   "cell_type": "code",
   "execution_count": 15,
   "metadata": {},
   "outputs": [],
   "source": [
    "def plot(a,b):\n",
    "    x = np.arange(len(a[0]))\n",
    "    plt.plot(x, a[0], color=\"r\", linestyle=\"-\", marker=\"^\", label=b[0], linewidth=1)\n",
    "    plt.legend(loc='lower right')\n",
    "    plt.plot(x, a[1], color=\"b\", linestyle=\"-\", marker=\"s\", label=b[1], linewidth=1)\n",
    "    plt.legend(loc='lower right')\n",
    "    plt.plot(x, a[2], color=\"g\", linestyle=\"-\", marker=\",\", label=b[2], linewidth=1)\n",
    "    plt.legend(loc='lower right')\n",
    "    plt.plot(x, a[3], color=\"m\", linestyle=\"-\", marker=\".\", label=b[3], linewidth=1)\n",
    "    plt.legend(loc='lower right')\n",
    "#     plt.plot(x, a[4], color=\"y\", linestyle=\"-\", marker=\"x\", label=b[4], linewidth=1)\n",
    "#     plt.legend(loc='lower right')\n",
    "    plt.xlabel('data batch')\n",
    "#     plt.ylabel('%')\n",
    "    plt.title('Next batch prediction')\n",
    "\n",
    "    plt.savefig('figures_next/Sensor_pic_{}_perform.jpg'.format(paramstamp),dpi=300)\n",
    "    plt.show()"
   ]
  },
  {
   "cell_type": "code",
   "execution_count": 16,
   "metadata": {
    "scrolled": true
   },
   "outputs": [],
   "source": [
    "# current batch nodes\n",
    "nodes = [[3, 5, 7, 18, 34, 58, 115, 115, 115, 115, 115, 115, 115, 115, 74, 74, 74, 74, 74, 74, 74, 74, 74, 74, 74, 74, 105, 105, 105, 126], [3, 5, 6, 4, 37, 160, 269, 295, 295, 295, 295, 295, 295, 295, 295, 295, 295, 295, 295, 295, 295, 295, 295, 295, 295, 295, 295, 295, 295, 295], [3, 7, 36, 51, 74, 70, 70, 70, 70, 44, 44, 44, 44, 44, 44, 44, 44, 44, 44, 44, 44, 44, 44, 44, 44, 44, 56, 56, 66, 66], [3, 5, 50, 40, 40, 98, 120, 120, 140, 140, 140, 140, 140, 140, 140, 140, 140, 140, 140, 140, 140, 140, 140, 140, 140, 140, 140, 140, 140, 140], [3, 8, 21, 31, 38, 76, 77, 77, 77, 77, 77, 45, 45, 45, 45, 45, 45, 45, 45, 45, 45, 45, 45, 45, 45, 45, 45, 70, 70, 70]]"
   ]
  },
  {
   "cell_type": "code",
   "execution_count": 25,
   "metadata": {},
   "outputs": [],
   "source": [
    "# one step ahead nodes\n",
    "nodes = [[3, 10, 28, 47, 47, 60, 61, 61, 61, 61, 61, 61, 61, 61, 61, 61, 61, 61, 61, 61, 61, 61, 61, 61, 61, 61, 61, 61, 61],[3, 6, 12, 7, 41, 41, 96, 140, 85, 85, 85, 85, 97, 97, 97, 97, 97, 97, 97, 97, 97, 97, 97, 97, 97, 97, 97, 97, 97],[3, 8, 7, 26, 72, 42, 42, 42, 42, 42, 42, 42, 42, 42, 42, 42, 42, 42, 54, 54, 54, 54, 69, 69, 69, 69, 69, 69, 69],[3, 6, 6, 41, 66, 67, 99, 110, 110, 110, 110, 110, 110, 110, 110, 110, 110, 110, 110, 110, 110, 110, 110, 110, 110, 110, 110, 110, 110],[3, 6, 4, 4, 5, 5, 46, 65, 65, 89, 89, 89, 89, 121, 121, 121, 121, 137, 137, 137, 137, 137, 137, 137, 137, 137, 137, 137, 137]]"
   ]
  },
  {
   "cell_type": "code",
   "execution_count": 26,
   "metadata": {},
   "outputs": [
    {
     "name": "stdout",
     "output_type": "stream",
     "text": [
      "[[3, 10, 28, 47, 47, 60, 61, 61, 61, 61, 61, 61, 61, 61, 61, 61, 61, 61, 61, 61, 61, 61, 61, 61, 61, 61, 61, 61, 61], [3, 6, 12, 7, 41, 41, 96, 140, 85, 85, 85, 85, 97, 97, 97, 97, 97, 97, 97, 97, 97, 97, 97, 97, 97, 97, 97, 97, 97], [3, 8, 7, 26, 72, 42, 42, 42, 42, 42, 42, 42, 42, 42, 42, 42, 42, 42, 54, 54, 54, 54, 69, 69, 69, 69, 69, 69, 69], [3, 6, 6, 41, 66, 67, 99, 110, 110, 110, 110, 110, 110, 110, 110, 110, 110, 110, 110, 110, 110, 110, 110, 110, 110, 110, 110, 110, 110], [3, 6, 4, 4, 5, 5, 46, 65, 65, 89, 89, 89, 89, 121, 121, 121, 121, 137, 137, 137, 137, 137, 137, 137, 137, 137, 137, 137, 137]]\n"
     ]
    }
   ],
   "source": [
    "print(nodes)"
   ]
  },
  {
   "cell_type": "code",
   "execution_count": 27,
   "metadata": {},
   "outputs": [],
   "source": [
    "ave = []\n",
    "for i in range(len(nodes[0])):\n",
    "    ave.append([])\n",
    "    [ave[i].append(nodes[k][i]) for k in range(5)]"
   ]
  },
  {
   "cell_type": "code",
   "execution_count": 28,
   "metadata": {},
   "outputs": [],
   "source": [
    "ave_ = []\n",
    "for a in ave:\n",
    "    ave_.append(np.mean(a))"
   ]
  },
  {
   "cell_type": "code",
   "execution_count": 29,
   "metadata": {},
   "outputs": [
    {
     "data": {
      "text/plain": [
       "[<matplotlib.lines.Line2D at 0x22c13932648>]"
      ]
     },
     "execution_count": 29,
     "metadata": {},
     "output_type": "execute_result"
    },
    {
     "data": {
      "image/png": "[encoded data removed]",
      "text/plain": [
       "<Figure size 432x288 with 1 Axes>"
      ]
     },
     "metadata": {
      "needs_background": "light"
     },
     "output_type": "display_data"
    }
   ],
   "source": [
    "x = np.arange(len(ave_))\n",
    "plt.plot(x, ave_, color=\"r\", linestyle=\"-\", marker=\"^\", label='Nodes', linewidth=1)"
   ]
  },
  {
   "cell_type": "code",
   "execution_count": 9,
   "metadata": {},
   "outputs": [],
   "source": [
    "# new data\n",
    "nodes = [[2, 7, 11, 15, 15, 16, 16, 16, 16, 16, 16, 16, 32, 32, 32, 32, 32, 32, 32, 32, 32, 32, 32, 32],[2, 9, 14, 8, 23, 23, 23, 23, 23, 23, 23, 23, 67, 67, 67, 67, 67, 67, 67, 67, 67, 67, 67, 67],[2, 12, 16, 20, 20, 20, 20, 20, 20, 20, 20, 20, 31, 31, 31, 31, 31, 31, 31, 31, 31, 31, 31, 31],[2, 8, 10, 12, 12, 15, 15, 15, 15, 15, 15, 15, 16, 16, 16, 16, 16, 16, 16, 16, 16, 16, 16, 16],[2, 9, 24, 55, 55, 79, 79, 79, 79, 79, 79, 79, 92, 92, 92, 92, 92, 92, 92, 92, 92, 92, 92, 92],[2, 4, 22, 49, 69, 69, 69, 69, 69, 69, 69, 69, 88, 88, 88, 88, 88, 88, 88, 88, 88, 88, 88, 88],[2, 4, 5, 6, 7, 7, 7, 7, 7, 7, 7, 7, 9, 9, 9, 9, 9, 9, 9, 9, 9, 9, 9, 9],[2, 5, 29, 26, 47, 47, 47, 47, 47, 47, 47, 47, 62, 62, 62, 62, 62, 62, 62, 62, 62, 62, 62, 62],[2, 4, 17, 56, 77, 77, 77, 77, 77, 77, 77, 77, 86, 86, 86, 86, 86, 86, 86, 86, 86, 86, 86, 86],[2, 7, 16, 32, 41, 41, 41, 41, 41, 41, 41, 41, 45, 45, 45, 45, 45, 45, 45, 45, 45, 45, 45, 45]]"
   ]
  },
  {
   "cell_type": "code",
   "execution_count": null,
   "metadata": {},
   "outputs": [],
   "source": []
  },
  {
   "cell_type": "code",
   "execution_count": 17,
   "metadata": {},
   "outputs": [],
   "source": [
    "def loadfile(filename):\n",
    "    f=open(filename,'rb')\n",
    "    r=pickle.load(f)\n",
    "    f.close()\n",
    "    return r"
   ]
  },
  {
   "cell_type": "code",
   "execution_count": 18,
   "metadata": {},
   "outputs": [],
   "source": [
    "def loadresult(file,pic,metric):\n",
    "    ave = [[],[],[],[],[],[]]\n",
    "    racc = [[],[],[],[],[],[]]\n",
    "    metrics = [[],[],[]]\n",
    "    # get performance dict\n",
    "    f=open(file,'rb')\n",
    "    r=pickle.load(f)\n",
    "    f.close()\n",
    "    for i in range(len(SI)):\n",
    "#         print(b[i])\n",
    "#         # print('si:{} selflabel:{} flexibel:{}'.format(r['SI'][i],r['Selflabel'][i],r['Flexiblelayer'][i]))\n",
    "# #         print(r['Performance'][i])\n",
    "#         print(np.mean(r['Performance'][i][1:]))\n",
    "        ave[i].append(np.mean(r['Performance'][i][1:]))\n",
    "        racc[i].append(r['Performance'][i])\n",
    "#         print(racc)\n",
    "    # print('nodes:',r['Nodes'])\n",
    "    result = []\n",
    "    for a in ave:\n",
    "        result.append(a)\n",
    "#     print('acc:',result)\n",
    "    [overallacc[i].append(result[i][0]) for i in range(6)]\n",
    "    nodes = r['Nodes']\n",
    "    [overallnode[i].append(nodes[i]) for i in range(6)]\n",
    "    ### Read Images\n",
    "    if os.path.isfile(pic):\n",
    "        img = mpimg.imread(pic)\n",
    "        plt.imshow(img)\n",
    "\n",
    "    # get metrics dict\n",
    "    m = loadfile(metric)\n",
    "    performs = [[],[],[]]\n",
    "    for i,key in enumerate(['F1','precision','recall']):\n",
    "        for k in m:\n",
    "            f = []\n",
    "            for l in range(len(k)):\n",
    "                f.append(k[l][key])\n",
    "            performs[i].append(f)\n",
    "        # plot_metrics(performs[i],b,key)\n",
    "    f1result = []\n",
    "    precision = []\n",
    "    recall = []\n",
    "    for a in range(len(SI)):\n",
    "        f1result.append(np.mean(performs[0][a]))\n",
    "        precision.append(np.mean(performs[1][a]))\n",
    "        recall.append(np.mean(performs[2][a]))\n",
    "    del a\n",
    "    metrics[0] = performs[0][5]\n",
    "    metrics[1] = performs[1][5]\n",
    "    metrics[2] = performs[2][5]\n",
    "#     print(metrics[0])\n",
    "#     print('F1:',f1result)\n",
    "#     print('precision:', precision)\n",
    "#     print('recall:', recall)\n",
    "#     print('nodes:', nodes)\n",
    "#     [overallf1[i].append(f1result[i]) for i in range(6)]\n",
    "#     [overallprec[i].append(precision[i]) for i in range(6)]\n",
    "#     [overallrecall[i].append(recall[i]) for i in range(6)]\n",
    "    return racc, metrics"
   ]
  },
  {
   "cell_type": "code",
   "execution_count": 19,
   "metadata": {},
   "outputs": [
    {
     "name": "stdout",
     "output_type": "stream",
     "text": [
      "seed: [13, 5, 15, 98, 10]\n",
      "Seed13\n",
      "Seed5\n",
      "Seed15\n",
      "Seed98\n",
      "Seed10\n"
     ]
    }
   ],
   "source": [
    "### variables\n",
    "SI         =  [False, False, True , False, True , True]\n",
    "Self_label =  [False, True , True , False, True , True]\n",
    "Flexible   =  [False, True , False, True , True , True]\n",
    "Clustering =  [False, True , True , True , True , True]\n",
    "Augment    =  [False, True , True , True , False, True]\n",
    "\n",
    "b = ['all off', 'si off', 'evolving off', 'pseudo&si off','augment off','parsnet++']\n",
    "\n",
    "epochs = 10\n",
    "Epoch = 5\n",
    "init_batch = 5              # batches for initialization of parsnet+ network\n",
    "labeled_proportion = 0.5\n",
    "batchSize = 50\n",
    "minibatchsize = 5           # if minibatchsize=1, node growing&pruning criterion needs to be changed\n",
    "noise_std = 0.001\n",
    "epsilon = 0.001\n",
    "\n",
    "### network parameters\n",
    "nInputSensor = 48\n",
    "classes = 3\n",
    "lr = 0.01\n",
    "lrGen = 0.01\n",
    "\n",
    "### parameter stamp\n",
    "paramstamp = 'init_batch{}_epochs{}_labeled{}_batchsize{}_epsilon{}_noisestd{}_lrDis{}_lrGen{}'.format(\n",
    "    init_batch,epochs,labeled_proportion,batchSize,epsilon,noise_std,lr,lrGen)\n",
    "# paramstamp = 'init_batch{}_epochs{}_labeled{}_batchsize{}_epsilon{}_noisestd{}_lrDis{}_lrGen{}_0.8'.format(\n",
    "#     init_batch,epochs,labeled_proportion,batchSize,epsilon,noise_std,lr,lrGen)\n",
    "\n",
    "### select random seed\n",
    "seedlist = [13, 5, 15, 98, 10]\n",
    "print('seed:',seedlist)\n",
    "overallacc = [[],[],[],[],[],[]]\n",
    "overallf1 = [[],[],[],[],[],[]]\n",
    "overallprec = [[],[],[],[],[],[]]\n",
    "overallrecall = [[],[],[],[],[],[]]\n",
    "overallnode = [[],[],[],[],[],[]]\n",
    "for e in range(len(seedlist)):\n",
    "    randomseed = seedlist[e]\n",
    "    print('Seed{}'.format(randomseed))\n",
    "    fileName = 'results_next/Sensor_accuracy_{}-seed{}.txt'.format(paramstamp,randomseed)\n",
    "    picName = 'figures_next/Sensor_pic_{}-seed{}.jpg'.format(paramstamp,randomseed)\n",
    "    metricfile = 'results_next/Sensor_metrics_{}-seed{}.txt'.format(paramstamp,randomseed)\n",
    "        \n",
    "    if os.path.isfile(fileName):\n",
    "        # print('reulst file exists')\n",
    "        racc, metr = loadresult(fileName,picName,metricfile)\n",
    "        if e == 0:\n",
    "            overacc = torch.tensor(racc)\n",
    "            overall = torch.tensor(metr)\n",
    "        else:\n",
    "            overacc = torch.cat((overacc,torch.tensor(racc)),dim=1)\n",
    "            overall = torch.add(overall,torch.tensor(metr))"
   ]
  },
  {
   "cell_type": "code",
   "execution_count": 33,
   "metadata": {},
   "outputs": [],
   "source": [
    "a[0] = torch.mean(overacc,dim=1)[-1]\n",
    "a[1] = (overall/5)[0]\n",
    "a[2] = (overall/5)[1]\n",
    "a[3] = (overall/5)[2]"
   ]
  },
  {
   "cell_type": "code",
   "execution_count": 34,
   "metadata": {},
   "outputs": [
    {
     "data": {
      "image/png": "[encoded data removed]",
      "text/plain": [
       "<Figure size 432x288 with 1 Axes>"
      ]
     },
     "metadata": {
      "needs_background": "light"
     },
     "output_type": "display_data"
    }
   ],
   "source": [
    "plot(a,['accuracy','F1','precision','recall','nodes'])"
   ]
  },
  {
   "cell_type": "code",
   "execution_count": 35,
   "metadata": {},
   "outputs": [],
   "source": [
    "a[4] = ave_"
   ]
  },
  {
   "cell_type": "code",
   "execution_count": 36,
   "metadata": {},
   "outputs": [
    {
     "data": {
      "image/png": "[encoded data removed]",
      "text/plain": [
       "<Figure size 432x288 with 1 Axes>"
      ]
     },
     "metadata": {
      "needs_background": "light"
     },
     "output_type": "display_data"
    }
   ],
   "source": [
    "x = np.arange(len(a[4]))\n",
    "plt.plot(x, a[4], color=\"r\", linestyle=\"-\", marker=\"^\", linewidth=1)\n",
    "plt.title('Next batch prediction')\n",
    "plt.xlabel('data batch')\n",
    "plt.ylabel('Nodes')\n",
    "plt.savefig('figures_next/Sensor_pic_{}_nodes.jpg'.format(paramstamp),dpi=300)\n",
    "plt.show()"
   ]
  },
  {
   "cell_type": "code",
   "execution_count": 32,
   "metadata": {},
   "outputs": [
    {
     "data": {
      "text/plain": [
       "[tensor([0.3020, 0.6920, 0.8760, 0.8260, 0.8720, 0.9000, 0.8580, 0.8320, 0.9020,\n",
       "         0.9400, 0.9340, 0.9620, 0.9460, 0.9360, 0.9500, 0.9380, 0.9740, 0.9860,\n",
       "         0.9720, 0.9020, 0.9220, 0.9700, 0.9580, 0.9600, 0.9120, 0.9780, 0.9720,\n",
       "         0.9800]),\n",
       " tensor([0.1823, 0.6752, 0.8749, 0.8304, 0.8747, 0.8961, 0.8490, 0.8395, 0.9007,\n",
       "         0.9380, 0.9362, 0.9608, 0.9454, 0.9341, 0.9513, 0.9404, 0.9777, 0.9867,\n",
       "         0.9750, 0.9047, 0.9121, 0.9704, 0.9588, 0.9599, 0.9188, 0.9768, 0.9747,\n",
       "         0.9801]),\n",
       " tensor([0.1467, 0.7757, 0.8800, 0.8843, 0.8780, 0.8949, 0.8933, 0.8539, 0.9192,\n",
       "         0.9432, 0.9373, 0.9631, 0.9500, 0.9349, 0.9537, 0.9407, 0.9807, 0.9870,\n",
       "         0.9751, 0.9286, 0.9444, 0.9707, 0.9558, 0.9612, 0.9309, 0.9769, 0.9777,\n",
       "         0.9807]),\n",
       " tensor([0.3339, 0.7080, 0.8764, 0.8439, 0.8909, 0.9034, 0.8513, 0.8619, 0.9028,\n",
       "         0.9379, 0.9422, 0.9606, 0.9455, 0.9356, 0.9531, 0.9463, 0.9762, 0.9869,\n",
       "         0.9759, 0.9038, 0.9156, 0.9720, 0.9674, 0.9666, 0.9240, 0.9786, 0.9749,\n",
       "         0.9800]),\n",
       " 137]"
      ]
     },
     "execution_count": 32,
     "metadata": {},
     "output_type": "execute_result"
    }
   ],
   "source": [
    "a"
   ]
  },
  {
   "cell_type": "code",
   "execution_count": null,
   "metadata": {},
   "outputs": [],
   "source": []
  }
 ],
 "metadata": {
  "kernelspec": {
   "display_name": "Python 3",
   "language": "python",
   "name": "python3"
  },
  "language_info": {
   "codemirror_mode": {
    "name": "ipython",
    "version": 3
   },
   "file_extension": ".py",
   "mimetype": "text/x-python",
   "name": "python",
   "nbconvert_exporter": "python",
   "pygments_lexer": "ipython3",
   "version": "3.7.6"
  }
 },
 "nbformat": 4,
 "nbformat_minor": 2
}
